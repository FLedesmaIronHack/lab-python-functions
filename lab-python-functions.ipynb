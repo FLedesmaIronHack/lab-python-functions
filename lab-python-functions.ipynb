{
 "cells": [
  {
   "cell_type": "markdown",
   "id": "25d7736c-ba17-4aff-b6bb-66eba20fbf4e",
   "metadata": {},
   "source": [
    "# Lab | Functions"
   ]
  },
  {
   "cell_type": "markdown",
   "id": "0c581062-8967-4d93-b06e-62833222f930",
   "metadata": {
    "tags": []
   },
   "source": [
    "## Exercise: Managing Customer Orders with Functions\n",
    "\n",
    "In the previous exercise, you improved the code for managing customer orders by using loops and flow control. Now, let's take it a step further and refactor the code by introducing functions.\n",
    "\n",
    "Follow the steps below to complete the exercise:\n",
    "\n",
    "1. Define a function named `initialize_inventory` that takes `products` as a parameter. Inside the function, implement the code for initializing the inventory dictionary using a loop and user input.\n",
    "\n",
    "2. Define a function named `get_customer_orders` that takes no parameters. Inside the function, implement the code for prompting the user to enter the product names using a loop. The function should return the `customer_orders` set.\n",
    "\n",
    "3. Define a function named `update_inventory` that takes `customer_orders` and `inventory` as parameters. Inside the function, implement the code for updating the inventory dictionary based on the customer orders.\n",
    "\n",
    "4. Define a function named `calculate_order_statistics` that takes `customer_orders` and `products` as parameters. Inside the function, implement the code for calculating the order statistics (total products ordered, and percentage of unique products ordered). The function should return these values.\n",
    "\n",
    "5. Define a function named `print_order_statistics` that takes `order_statistics` as a parameter. Inside the function, implement the code for printing the order statistics.\n",
    "\n",
    "6. Define a function named `print_updated_inventory` that takes `inventory` as a parameter. Inside the function, implement the code for printing the updated inventory.\n",
    "\n",
    "7. Call the functions in the appropriate sequence to execute the program and manage customer orders.\n",
    "\n",
    "Hints for functions:\n",
    "\n",
    "- Consider the input parameters required for each function and their return values.\n",
    "- Utilize function parameters and return values to transfer data between functions.\n",
    "- Test your functions individually to ensure they work correctly.\n",
    "\n",
    "\n"
   ]
  },
  {
   "cell_type": "code",
   "execution_count": 17,
   "id": "0d5b21b7-5f9d-4ac7-ac8b-7b0d65824fdb",
   "metadata": {},
   "outputs": [],
   "source": [
    "def initialize_inventory(products):\n",
    "    inventory = {}\n",
    "    for item in products:\n",
    "        inventory[item] = int(input(f\"Enter the quantity of '{item}': \"))\n",
    "    return inventory\n"
   ]
  },
  {
   "cell_type": "code",
   "execution_count": 19,
   "id": "24a24c07-aaa7-49be-9025-1683028f3372",
   "metadata": {},
   "outputs": [],
   "source": [
    "def get_customer_orders(inventory):\n",
    "    customer_orders = {}\n",
    "    question = input(\"Do you want to order a product? (yes/no): \").strip().lower()\n",
    "    while question == 'yes':\n",
    "        product_name = input(\"Enter the name of the product you want to order: \").strip().lower()\n",
    "        if product_name in inventory:\n",
    "            quantity = int(input(f\"Enter the quantity of '{product_name}': \"))\n",
    "            if quantity > inventory[product_name]:\n",
    "                print(f\"Sorry, we don't have enough stock for that product. Our current stock for '{product_name}' is: {inventory[product_name]}\")\n",
    "            else:\n",
    "                customer_orders[product_name] = customer_orders.get(product_name, 0) + quantity\n",
    "                print(f\"{quantity} units of '{product_name}' added to your order.\")\n",
    "        else:\n",
    "            print(f\"Sorry, we don't have '{product_name}' in our inventory.\")\n",
    "        question = input(\"Do you want to order another product? (yes/no): \").strip().lower()\n",
    "    return customer_orders\n"
   ]
  },
  {
   "cell_type": "code",
   "execution_count": 21,
   "id": "ff420107-8add-429f-a095-5271c39ae8f8",
   "metadata": {},
   "outputs": [],
   "source": [
    "def update_inventory(customer_orders, inventory):\n",
    "    for item in customer_orders:\n",
    "        if item in inventory:\n",
    "            inventory[item] -= customer_orders[item]\n",
    "    return inventory\n"
   ]
  },
  {
   "cell_type": "code",
   "execution_count": 23,
   "id": "cfc330aa-613b-482b-ab97-d3b80ac05fc3",
   "metadata": {},
   "outputs": [],
   "source": [
    "def calculate_order_statistics(customer_orders, original_inventory):\n",
    "    total_products_ordered = sum(customer_orders.values())\n",
    "    percentage_of_ordered_per_product = {item: (customer_orders[item] / original_inventory[item]) * 100 for item in customer_orders}\n",
    "    return total_products_ordered, percentage_of_ordered_per_product\n",
    "\n"
   ]
  },
  {
   "cell_type": "code",
   "execution_count": 25,
   "id": "3c72c2c0-0ac7-4e48-a513-f43e9eef4ea9",
   "metadata": {},
   "outputs": [],
   "source": [
    "def print_order_statistics(order_statistics):\n",
    "    total_products_ordered, percentage_of_ordered_per_product = order_statistics\n",
    "    print('Order Statistics:')\n",
    "    print(f'Total Products Ordered: {total_products_ordered}')\n",
    "    print('Percentage of Products Ordered:', percentage_of_ordered_per_product)\n"
   ]
  },
  {
   "cell_type": "code",
   "execution_count": 27,
   "id": "e6adeb30-8a53-4298-86bf-e0043ebe5b86",
   "metadata": {},
   "outputs": [],
   "source": [
    "def print_updated_inventory(inventory):\n",
    "    print(\"Updated Inventory:\", inventory)\n"
   ]
  },
  {
   "cell_type": "code",
   "execution_count": 31,
   "id": "2b0c0d19-8487-490d-9149-43f12dc809b8",
   "metadata": {},
   "outputs": [
    {
     "name": "stdin",
     "output_type": "stream",
     "text": [
      "Enter the quantity of 't-shirt':  1\n",
      "Enter the quantity of 'mug':  2\n",
      "Enter the quantity of 'hat':  10\n",
      "Enter the quantity of 'book':  20\n",
      "Enter the quantity of 'keychain':  5\n",
      "Do you want to order a product? (yes/no):  yes\n",
      "Enter the name of the product you want to order:  hat\n",
      "Enter the quantity of 'hat':  5\n"
     ]
    },
    {
     "name": "stdout",
     "output_type": "stream",
     "text": [
      "5 units of 'hat' added to your order.\n"
     ]
    },
    {
     "name": "stdin",
     "output_type": "stream",
     "text": [
      "Do you want to order another product? (yes/no):  yes\n",
      "Enter the name of the product you want to order:  t-shirt\n",
      "Enter the quantity of 't-shirt':  1\n"
     ]
    },
    {
     "name": "stdout",
     "output_type": "stream",
     "text": [
      "1 units of 't-shirt' added to your order.\n"
     ]
    },
    {
     "name": "stdin",
     "output_type": "stream",
     "text": [
      "Do you want to order another product? (yes/no):  no\n"
     ]
    },
    {
     "name": "stdout",
     "output_type": "stream",
     "text": [
      "Order Statistics:\n",
      "Total Products Ordered: 6\n",
      "Percentage of Products Ordered: {'hat': 50.0, 't-shirt': 100.0}\n",
      "Updated Inventory: {'t-shirt': 0, 'mug': 2, 'hat': 5, 'book': 20, 'keychain': 5}\n"
     ]
    }
   ],
   "source": [
    "# Main program execution\n",
    "products = [\"t-shirt\", \"mug\", \"hat\", \"book\", \"keychain\"]\n",
    "\n",
    "# Initialize inventory\n",
    "inventory = initialize_inventory(products)\n",
    "\n",
    "# Get customer orders\n",
    "customer_orders = get_customer_orders(inventory)\n",
    "\n",
    "# Calculate order statistics\n",
    "order_statistics = calculate_order_statistics(customer_orders, inventory)\n",
    "\n",
    "# Print order statistics\n",
    "print_order_statistics(order_statistics)\n",
    "\n",
    "# Update inventory\n",
    "inventory = update_inventory(customer_orders, inventory)\n",
    "\n",
    "# Print updated inventory\n",
    "print_updated_inventory(inventory)\n"
   ]
  },
  {
   "cell_type": "code",
   "execution_count": null,
   "id": "415509ff-3aef-4f6d-adfc-ca1223fe7b64",
   "metadata": {},
   "outputs": [],
   "source": []
  }
 ],
 "metadata": {
  "kernelspec": {
   "display_name": "Python 3 (ipykernel)",
   "language": "python",
   "name": "python3"
  },
  "language_info": {
   "codemirror_mode": {
    "name": "ipython",
    "version": 3
   },
   "file_extension": ".py",
   "mimetype": "text/x-python",
   "name": "python",
   "nbconvert_exporter": "python",
   "pygments_lexer": "ipython3",
   "version": "3.11.7"
  }
 },
 "nbformat": 4,
 "nbformat_minor": 5
}
